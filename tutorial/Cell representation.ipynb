{
 "cells": [
  {
   "cell_type": "code",
   "execution_count": null,
   "metadata": {},
   "outputs": [],
   "source": [
    "import scanpy as sc\n",
    "import pandas as pd\n",
    "from sklearn.metrics import adjusted_rand_score, adjusted_mutual_info_score, silhouette_score"
   ]
  },
  {
   "cell_type": "code",
   "execution_count": null,
   "metadata": {},
   "outputs": [],
   "source": [
    "adata = sc.AnnData(pd.read_csv('path_to_d-scIGM_yan_HIGHPRE_embedding.csv',sep=',',index_col=0))\n",
    "label = pd.read_csv('path_to_yan_cell_anno.csv',sep=',',index_col=0)\n",
    "adata.obs['cell_type'] = label.values\n",
    "adata=adata[:,000:100] #$\\theta^{(1)}$\n",
    "\n",
    "sc.pp.pca(adata)\n",
    "sc.pp.neighbors(adata,use_rep = 'X_pca')\n",
    "maxn = 2\n",
    "minn= 0\n",
    "list_value = []\n",
    "for x in  range(minn, maxn*10):\n",
    "    sc.tl.louvain(adata,resolution=x/10.0,random_state=0)\n",
    "    list_value.append(adjusted_rand_score(adata.obs['cell_type'],adata.obs['louvain']))\n",
    "sc.tl.louvain(adata,resolution=list_value.index(max(list_value))*0.1,random_state=0)\n",
    "print(list_value.index(max(list_value))*0.1)\n",
    "sc.tl.umap(adata)\n",
    "sc.pl.umap(\n",
    "    adata,\n",
    "    color=[\"cell_type\",\"louvain\"],\n",
    "    wspace = 0.3,\n",
    "    frameon=False,\n",
    ")\n",
    "print(\"d-scIGM   Adjusted_rand_score   \"+str(adjusted_rand_score(adata.obs['cell_type'],adata.obs['louvain']))+\"   Adjusted_mutual_info_score   \"+str(adjusted_mutual_info_score(adata.obs['cell_type'],adata.obs['louvain'])))"
   ]
  }
 ],
 "metadata": {
  "kernelspec": {
   "display_name": "Python 3",
   "language": "python",
   "name": "python3"
  },
  "language_info": {
   "codemirror_mode": {
    "name": "ipython",
    "version": 3
   },
   "file_extension": ".py",
   "mimetype": "text/x-python",
   "name": "python",
   "nbconvert_exporter": "python",
   "pygments_lexer": "ipython3",
   "version": "3.8.8"
  }
 },
 "nbformat": 4,
 "nbformat_minor": 2
}
