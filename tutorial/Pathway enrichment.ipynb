{
 "cells": [
  {
   "cell_type": "code",
   "execution_count": null,
   "metadata": {},
   "outputs": [],
   "source": [
    "import pandas as pd\n",
    "import gseapy as gp\n",
    "import matplotlib.pyplot as plt\n",
    "from gseapy import gseaplot"
   ]
  },
  {
   "cell_type": "code",
   "execution_count": null,
   "metadata": {},
   "outputs": [],
   "source": [
    "data = pd.read_csv('path_to_d-scIGM_yan_HIGHPRE_tg.csv',sep=',',index_col=0)\n",
    "data_name = 'path_to_yan_HIGHPRE.csv' \n",
    "csv = pd.read_csv(data_name,sep=',',index_col=0)\n",
    "data.index = csv.columns"
   ]
  },
  {
   "cell_type": "code",
   "execution_count": null,
   "metadata": {},
   "outputs": [],
   "source": [
    "all_res = None\n",
    "for index in range(len(data.iloc[0])):\n",
    "    data_temp  = data.iloc[:,index]\n",
    "    pre_res = gp.prerank(rnk=data_temp, # or rnk = rnk,\n",
    "                     gene_sets='path_to_c2.cp.reactome.v2022.1.Hs.symbols.gmt', #'m2.cp.reactome.v2022.1.Mm.symbols'\n",
    "                     threads=4,\n",
    "                     outdir=None, # don't write to disk\n",
    "                    )\n",
    "    pre_res.res2d.insert(0,'topic_index',index)\n",
    "    if index == 0:\n",
    "        all_res = pre_res.res2d\n",
    "    else:\n",
    "        all_res = all_res.append(pre_res.res2d)"
   ]
  },
  {
   "cell_type": "code",
   "execution_count": null,
   "metadata": {},
   "outputs": [],
   "source": [
    "from pandas import DataFrame\n",
    "from scipy.stats import uniform\n",
    "from scipy.stats import randint\n",
    "import numpy as np\n",
    "import matplotlib.pyplot as plt\n",
    "\n",
    "font = {'family' : 'Times New Roman',\n",
    "'size'   : 20,\n",
    "}\n",
    "fonty = {'family' : 'Times New Roman',\n",
    "'size'   : 14,\n",
    "}\n",
    "\n",
    "all_res['$-log_{10}(q)$'] = -np.log10(np.array(all_res['FDR q-val']+1e-6).astype('float'))\n",
    "all_res = all_res.sort_values('topic_index')\n",
    "\n",
    "all_res['ind'] = range(len(all_res))\n",
    "df_grouped = all_res.groupby(('topic_index'))\n",
    "\n",
    "# manhattan plot\n",
    "fig = plt.figure(figsize=(20,4),dpi=100) \n",
    "ax = fig.add_subplot(111)\n",
    "\n",
    "#colors = [\"#8cc9bb\",\"#818cae\",\"#e8967c\",\"#3a5181\",\"#109781\",\"#4bb0c8\",\"#d94b34\"]\n",
    "colors = [\"#b03d26\",\"#005f81\",\"#9ccfe6\",\"#e0897e\",\"#a5a7ab\"]\n",
    "x_labels = []\n",
    "x_labels_pos = []\n",
    "for num, (name, group) in enumerate(df_grouped):\n",
    "    group.plot(kind='scatter', x='ind', y='$-log_{10}(q)$',color=colors[num % len(colors)], ax=ax)\n",
    "    x_labels.append(name)\n",
    "    x_labels_pos.append((group['ind'].iloc[-1] - (group['ind'].iloc[-1] - group['ind'].iloc[0])/2))\n",
    "# add grid\n",
    "#ax.grid(axis=\"y\",linestyle=\"--\",linewidth=.5,color=\"gray\")\n",
    "ax.tick_params(direction='in',labelsize=13)\n",
    "x_labels_2 = []\n",
    "x_labels_pos_2 = []\n",
    "for index in range(100):\n",
    "    if index%2==0:\n",
    "        x_labels_pos_2.append(x_labels_pos[index])\n",
    "        x_labels_2.append(x_labels[index])\n",
    "ax.set_xticks(x_labels_pos_2)\n",
    "ax.set_xticklabels(x_labels_2)\n",
    "ax.spines['top'].set_visible(False)\n",
    "ax.spines['right'].set_visible(False)\n",
    "\n",
    "ax.set_xlim([0, len(all_res)])\n",
    "ax.set_ylim([0, 6.3])\n",
    "\n",
    "ax.set_xlabel('Topic',font)\n",
    "ax.set_ylabel('$-log_{10}(q)$',fonty)\n",
    "#plt.legend(prop=font)\n",
    "#plt.savefig('d-scIGM_'+data_namee+'.PDF',format='PDF',bbox_inches = 'tight',facecolor='white')\n",
    "all_res_table = all_res[all_res[\"FDR q-val\"] <=0.05]\n",
    "print(len(all_res_table))\n",
    "plt.show()"
   ]
  },
  {
   "cell_type": "code",
   "execution_count": null,
   "metadata": {},
   "outputs": [],
   "source": [
    "# data_temp  = data.iloc[:,44]  # Selected topic\n",
    "# pre_res = gp.prerank(rnk=data_temp, # or rnk = rnk,\n",
    "#                     gene_sets='/mnt/rao/home/chenhg/R/Relate_method/d-scIGM/datasets/c2.cp.reactome.v2022.1.Hs.symbols.gmt',\n",
    "#                     threads=4,\n",
    "#                     outdir=None, # don't write to disk\n",
    "#                 )\n",
    "# terms = pre_res.res2d.Term\n",
    "# gseaplot(rank_metric=pre_res.ranking, term=terms[7], **pre_res.results[terms[7]]) # Selected pathway "
   ]
  }
 ],
 "metadata": {
  "kernelspec": {
   "display_name": "Python 3",
   "language": "python",
   "name": "python3"
  },
  "language_info": {
   "codemirror_mode": {
    "name": "ipython",
    "version": 3
   },
   "file_extension": ".py",
   "mimetype": "text/x-python",
   "name": "python",
   "nbconvert_exporter": "python",
   "pygments_lexer": "ipython3",
   "version": "3.8.8"
  }
 },
 "nbformat": 4,
 "nbformat_minor": 2
}
